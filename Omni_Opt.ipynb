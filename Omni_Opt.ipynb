{
 "cells": [
  {
   "cell_type": "code",
   "execution_count": 32,
   "metadata": {},
   "outputs": [],
   "source": [
    "import pandas as pd\n",
    "import numpy as np\n",
    "import scipy as sp\n",
    "\n",
    "#ret = pd.read_csv('omni.csv') FUCK relative paths\n",
    "ret = pd.read_excel('/Users/zoakes/Desktop/Quant/Py_Review/Omni/Omni.xlsx') #THANK FUCKING GOD -- just drag drop into terminal !\n"
   ]
  },
  {
   "cell_type": "code",
   "execution_count": 8,
   "metadata": {},
   "outputs": [
    {
     "name": "stderr",
     "output_type": "stream",
     "text": [
      "/anaconda3/lib/python3.6/site-packages/ipykernel_launcher.py:14: RuntimeWarning: divide by zero encountered in log\n",
      "  \n",
      "/anaconda3/lib/python3.6/site-packages/ipykernel_launcher.py:14: RuntimeWarning: invalid value encountered in log\n",
      "  \n"
     ]
    },
    {
     "name": "stdout",
     "output_type": "stream",
     "text": [
      "[0.04585219 0.04814204 0.01057791 0.02100759 0.01548583 0.07033481\n",
      " 0.05312662 0.0156017  0.05117976 0.03438495 0.04575009 0.01960094\n",
      " 0.06543043 0.07221424 0.03375906 0.04763324 0.03454841 0.02143607\n",
      " 0.01181227 0.04536916 0.07622889 0.02588129 0.04184965 0.00935568\n",
      " 0.04705343 0.03638381]\n"
     ]
    }
   ],
   "source": [
    "#Monte Carlo -- Portfolio Optimization\n",
    "#np.random.seed(100)\n",
    "\n",
    "##INCLUDE DATA HERE \n",
    "'''Test Case\n",
    "#CONCAT RETURNS TOGETHER below\n",
    "#pd.concat([system,system2,system3],axis=1)\n",
    "#sys.columns = ['VX','RB','NQ']\n",
    "\n",
    "\n",
    "#sys.pct_change(1).head()\n",
    "'''\n",
    "#Normalize returns--Nat Log\n",
    "log_ret = np.log(ret/ret.shift(1))\n",
    "log_ret.head()\n",
    "\n",
    "#Create Temporary (Random) weights\n",
    "weights = np.array(np.random.random(26))\n",
    "\n",
    "#Rebalance w/ constraints\n",
    "weights = weights/np.sum(weights)\n",
    "print(weights)\n",
    "\n",
    "num_runs = 1000    #Kick this number up 10k-100k for better results\n",
    "all_weights = np.zeros((num_runs,len(ret.columns)))\n",
    "ret_arr = np.zeros(num_runs)\n",
    "vol_arr = np.zeros(num_runs)\n",
    "sharpe_arr = np.zeros(num_runs)\n",
    "corr_arr = np.zeros(num_runs)\n",
    "b_arr = np.zeros(num_runs)\n",
    "\n",
    "for run in range(num_runs):\n",
    "    \n",
    "    #Weights\n",
    "    weights = np.array(np.random.random(26))  #CHG to number securities\n",
    "    weights = weights/np.sum(weights)\n",
    "    \n",
    "    #Save weights\n",
    "    all_weights[run,:] = weights\n",
    "    \n",
    "    #Expected Ret\n",
    "    exp_ret = np.sum((log_ret.mean() * weights) * 252)\n",
    "    ret_arr[run] = np.sum( (log_ret.mean() * weights) * 252) #why T -> year?\n",
    "    \n",
    "    #Exp Vol: (Lets attempt some linear algebra w/out runtime error!)\n",
    "    exp_vol = np.sum((log_ret.std() * weights) * 252)\n",
    "    #       Sqrt of dot product of Transposed weights X Cov of Log returns & weights--whew.\n",
    "    vol_arr[run] = np.sqrt(np.dot(weights.T,np.dot(log_ret.cov()*252,weights)))\n",
    "    \n",
    "    #Sharpe\n",
    "    SR = exp_ret/exp_vol\n",
    "    sharpe_arr[run] = ret_arr[run]/vol_arr[run]\n",
    "    \n",
    "    #Correlation\n",
    "    t_corr = log_ret.corr() #[1:] #Removes benchmark--if included\n",
    "    t_corr2 = (t_corr.sum()-1)/t_corr.count()\n",
    "    corr_arr[run] = np.sum(t_corr2 * weights)\n",
    "    s_corr = np.sum((log_ret.corr() * weights)) # THIS HAD [1:] (for BM/Beta) bw final parentheses.#Use this one, although above is more accurate/complex\n",
    "    \n",
    "    #Beta \n",
    "    #Should really add a concat here, to include the benchmark, although painfully slow.\n",
    "    #s_beta = np.sum((log_ret.cov()[1:] * weights)\n",
    "    b_arr[run] = np.sum(np.sum(log_ret.cov() * weights)) # THIS HAD [1] bw final parentheres.#This looks right -- if not, remove the [1]"
   ]
  },
  {
   "cell_type": "code",
   "execution_count": 10,
   "metadata": {},
   "outputs": [
    {
     "data": {
      "text/plain": [
       "462"
      ]
     },
     "execution_count": 10,
     "metadata": {},
     "output_type": "execute_result"
    }
   ],
   "source": [
    "#sharpe_arr.argmax()\n",
    "#b_arr.argmin()\n",
    "corr_arr.argmin()"
   ]
  },
  {
   "cell_type": "code",
   "execution_count": 11,
   "metadata": {},
   "outputs": [
    {
     "data": {
      "text/plain": [
       "array([0.04218303, 0.05204915, 0.01169955, 0.04986516, 0.0885978 ,\n",
       "       0.00218859, 0.04290493, 0.08858309, 0.04813855, 0.08930225,\n",
       "       0.01626552, 0.01436139, 0.02866229, 0.03736161, 0.01276935,\n",
       "       0.06953922, 0.03072552, 0.00917211, 0.00615338, 0.09121499,\n",
       "       0.05331602, 0.01324064, 0.01288595, 0.0042662 , 0.00561321,\n",
       "       0.07894053])"
      ]
     },
     "execution_count": 11,
     "metadata": {},
     "output_type": "execute_result"
    }
   ],
   "source": [
    "all_weights[462,:]"
   ]
  },
  {
   "cell_type": "code",
   "execution_count": 46,
   "metadata": {},
   "outputs": [],
   "source": [
    "def get_ret_vol_sr(weights):\n",
    "    weights = np.array(weights)\n",
    "    ret = np.sum(log_ret.mean() * weights) * 252\n",
    "    vol = np.sqrt(np.dot(weights.T,np.dot(log_ret.cov()*252,weights)))\n",
    "    sr = ret/vol\n",
    "    corr = np.sum(np.sum(log_ret.corr() * weights)) #Had [1:] bw parenth's #Removes benchmark... should do better\n",
    "    b = np.sum(np.sum(log_ret.cov() * weights)[1])   #Selects only benchmark cov(if included for Beta calc)... this could be done better.\n",
    "    return np.array([ret,vol,sr,corr,b])"
   ]
  },
  {
   "cell_type": "code",
   "execution_count": 71,
   "metadata": {},
   "outputs": [],
   "source": [
    "#SLS Minimize Optimization (for larger datasets--or 12 instrument portfolios!)\n",
    "from scipy.optimize import minimize\n",
    "\n",
    "def neg_sharpe(weights):\n",
    "    return get_ret_vol_sr(weights)[2]*-1\n",
    "\n",
    "def check_sum(weights):\n",
    "    return np.sum(weights)-1\n",
    "\n",
    "def get_c(weights):\n",
    "    t_corr = log_ret.corr() #[1:] #Removes benchmark--if included\n",
    "    t_corr2 = (t_corr.sum()-1)/t_corr.count()\n",
    "    corr = np.sum(t_corr2 * weights)\n",
    "    return corr\n",
    "    #return get_ret_vol_sr(weights)[3]*-1    #This doesnt make sense, but it works.\n",
    "\n",
    "def opt_beta(weights):\n",
    "    return get_ret_vol_sr(weights)[4]*-1    #Again, this doesnt make sense, but it works.\n",
    "\n",
    "cons = ({'type':'eq','fun':check_sum})\n",
    "\n",
    "bounds = ((0,1),(0,1),(0,1),(0,1),(0,1),(0,1),(0,1),(0,1),(0,1),(0,1),(0,1),(0,1),(0,1),(0,1),(0,1),(0,1),(0,1),(0,1),(0,1),(0,1),(0,1),(0,1),(0,1),(0,1),(0,1),(0,1))\n",
    "\n",
    "#init_guess = [.1,.1,.,.20]\n",
    "init_guess = np.array(np.random.random(26))  #CHG to number securities\n",
    "init_guess = weights/np.sum(weights)\n",
    "\n",
    "opt_results = minimize(get_c,init_guess,method='SLSQP',bounds=bounds,constraints=cons)"
   ]
  },
  {
   "cell_type": "code",
   "execution_count": 80,
   "metadata": {},
   "outputs": [
    {
     "name": "stdout",
     "output_type": "stream",
     "text": [
      "MC Sim: Painfully slow\n",
      "The slowest run took 13.08 times longer than the fastest. This could mean that an intermediate result is being cached.\n",
      "4.85 µs ± 6.94 µs per loop (mean ± std. dev. of 7 runs, 50 loops each)\n",
      "830 ns ± 48.6 ns per loop (mean ± std. dev. of 7 runs, 50 loops each)\n",
      "SP.Opt.Min: Optimized to < 750ns\n",
      "Selection Confirmed -- Matches equities used (aside from AMZN)\n"
     ]
    },
    {
     "data": {
      "text/plain": [
       "(array([0.00000000e+00, 1.10176778e-16, 0.00000000e+00, 4.44089210e-16,\n",
       "        1.00000000e+00, 0.00000000e+00, 3.89642841e-17, 0.00000000e+00,\n",
       "        2.18144561e-15, 0.00000000e+00, 3.80961079e-17, 5.42103978e-17,\n",
       "        6.88808549e-17, 0.00000000e+00, 3.08580942e-18, 5.08267895e-16,\n",
       "        0.00000000e+00, 0.00000000e+00, 3.72275907e-17, 0.00000000e+00,\n",
       "        8.46728473e-18, 0.00000000e+00, 0.00000000e+00, 1.42717591e-16,\n",
       "        1.73552225e-17, 0.00000000e+00]),\n",
       " Index(['AAPL', 'ADBE', 'AMZN', 'APC', 'BA', 'BABA', 'BAC', 'CAT', 'COST',\n",
       "        'CMG', 'CRM', 'CVS', 'GOOGL', 'GS', 'INTC', 'KMI', 'LULU', 'NFLX',\n",
       "        'NVDA', 'PYPL', 'S', 'SLB', 'TEVA', 'TSLA', 'UAL', 'UNH'],\n",
       "       dtype='object'))"
      ]
     },
     "execution_count": 80,
     "metadata": {},
     "output_type": "execute_result"
    }
   ],
   "source": [
    "wts = opt_results.x\n",
    "\n",
    "#res = [(i,j) for i in opt_results.x for j in ret.columns]\n",
    "#res #Why did this run 100x? huh\n",
    "\n",
    "res = {}\n",
    "for value in wts:\n",
    "    for key in ret.columns:\n",
    "        res[key] = value\n",
    "        \n",
    "\n",
    "print('MC Sim: Painfully slow')\n",
    "%timeit -n50 corr_arr.argmin()\n",
    "\n",
    "%timeit -n50 opt_results,opt_results.x\n",
    "print('SP.Opt.Min: Optimized to < 750ns')\n",
    "print('Selection Confirmed -- Matches equities used (aside from AMZN)')\n",
    "wts,ret.columns\n",
    "#res\n",
    "\n",
    "nums = {}\n",
    "for value in wts:\n",
    "    for key in ret.columns:\n",
    "        nums[key] = value\n",
    "wts,ret.columns"
   ]
  },
  {
   "cell_type": "code",
   "execution_count": 255,
   "metadata": {},
   "outputs": [
    {
     "data": {
      "text/html": [
       "<div>\n",
       "<style scoped>\n",
       "    .dataframe tbody tr th:only-of-type {\n",
       "        vertical-align: middle;\n",
       "    }\n",
       "\n",
       "    .dataframe tbody tr th {\n",
       "        vertical-align: top;\n",
       "    }\n",
       "\n",
       "    .dataframe thead th {\n",
       "        text-align: right;\n",
       "    }\n",
       "</style>\n",
       "<table border=\"1\" class=\"dataframe\">\n",
       "  <thead>\n",
       "    <tr style=\"text-align: right;\">\n",
       "      <th></th>\n",
       "      <th>ADBE</th>\n",
       "      <th>APC</th>\n",
       "      <th>CMG</th>\n",
       "      <th>COST</th>\n",
       "      <th>GOOGL</th>\n",
       "      <th>GS</th>\n",
       "      <th>KMI</th>\n",
       "      <th>NFLX</th>\n",
       "      <th>PYPL</th>\n",
       "      <th>SLB</th>\n",
       "      <th>TEVA</th>\n",
       "      <th>UAL</th>\n",
       "    </tr>\n",
       "  </thead>\n",
       "  <tbody>\n",
       "    <tr>\n",
       "      <th>0</th>\n",
       "      <td>0.0034</td>\n",
       "      <td>0.0001</td>\n",
       "      <td>0.0005</td>\n",
       "      <td>0.0040</td>\n",
       "      <td>0.0000</td>\n",
       "      <td>-0.0036</td>\n",
       "      <td>-0.0011</td>\n",
       "      <td>-0.0013</td>\n",
       "      <td>0.0010</td>\n",
       "      <td>0.0012</td>\n",
       "      <td>0.0032</td>\n",
       "      <td>0.0021</td>\n",
       "    </tr>\n",
       "    <tr>\n",
       "      <th>1</th>\n",
       "      <td>0.0025</td>\n",
       "      <td>0.0002</td>\n",
       "      <td>0.0011</td>\n",
       "      <td>0.0006</td>\n",
       "      <td>0.0017</td>\n",
       "      <td>0.0008</td>\n",
       "      <td>0.0000</td>\n",
       "      <td>0.0002</td>\n",
       "      <td>0.0002</td>\n",
       "      <td>-0.0014</td>\n",
       "      <td>0.0003</td>\n",
       "      <td>0.0020</td>\n",
       "    </tr>\n",
       "    <tr>\n",
       "      <th>2</th>\n",
       "      <td>0.0003</td>\n",
       "      <td>-0.0008</td>\n",
       "      <td>0.0017</td>\n",
       "      <td>-0.0004</td>\n",
       "      <td>0.0029</td>\n",
       "      <td>0.0012</td>\n",
       "      <td>0.0018</td>\n",
       "      <td>0.0009</td>\n",
       "      <td>-0.0014</td>\n",
       "      <td>0.0030</td>\n",
       "      <td>0.0031</td>\n",
       "      <td>0.0003</td>\n",
       "    </tr>\n",
       "    <tr>\n",
       "      <th>3</th>\n",
       "      <td>0.0011</td>\n",
       "      <td>-0.0004</td>\n",
       "      <td>0.0022</td>\n",
       "      <td>0.0011</td>\n",
       "      <td>0.0010</td>\n",
       "      <td>0.0022</td>\n",
       "      <td>0.0008</td>\n",
       "      <td>0.0025</td>\n",
       "      <td>0.0009</td>\n",
       "      <td>0.0036</td>\n",
       "      <td>0.0000</td>\n",
       "      <td>0.0011</td>\n",
       "    </tr>\n",
       "    <tr>\n",
       "      <th>4</th>\n",
       "      <td>0.0003</td>\n",
       "      <td>0.0003</td>\n",
       "      <td>0.0026</td>\n",
       "      <td>-0.0010</td>\n",
       "      <td>-0.0001</td>\n",
       "      <td>-0.0003</td>\n",
       "      <td>-0.0016</td>\n",
       "      <td>0.0000</td>\n",
       "      <td>0.0005</td>\n",
       "      <td>0.0011</td>\n",
       "      <td>0.0030</td>\n",
       "      <td>0.0038</td>\n",
       "    </tr>\n",
       "  </tbody>\n",
       "</table>\n",
       "</div>"
      ],
      "text/plain": [
       "     ADBE     APC     CMG    COST   GOOGL      GS     KMI    NFLX    PYPL  \\\n",
       "0  0.0034  0.0001  0.0005  0.0040  0.0000 -0.0036 -0.0011 -0.0013  0.0010   \n",
       "1  0.0025  0.0002  0.0011  0.0006  0.0017  0.0008  0.0000  0.0002  0.0002   \n",
       "2  0.0003 -0.0008  0.0017 -0.0004  0.0029  0.0012  0.0018  0.0009 -0.0014   \n",
       "3  0.0011 -0.0004  0.0022  0.0011  0.0010  0.0022  0.0008  0.0025  0.0009   \n",
       "4  0.0003  0.0003  0.0026 -0.0010 -0.0001 -0.0003 -0.0016  0.0000  0.0005   \n",
       "\n",
       "      SLB    TEVA     UAL  \n",
       "0  0.0012  0.0032  0.0021  \n",
       "1 -0.0014  0.0003  0.0020  \n",
       "2  0.0030  0.0031  0.0003  \n",
       "3  0.0036  0.0000  0.0011  \n",
       "4  0.0011  0.0030  0.0038  "
      ]
     },
     "execution_count": 255,
     "metadata": {},
     "output_type": "execute_result"
    }
   ],
   "source": [
    "fin_ret = ret[['ADBE','APC','CMG','COST','GOOGL','GS','KMI','NFLX','PYPL','SLB','TEVA','UAL']]\n",
    "fin_ret.head()"
   ]
  },
  {
   "cell_type": "code",
   "execution_count": 263,
   "metadata": {},
   "outputs": [],
   "source": [
    "#Scipy optimize min (on final values)\n",
    "#Weights\n",
    "\n",
    "def get_ret_vol_sr(weights):\n",
    "    weights = np.array(weights)\n",
    "    ret = np.sum(fin_ret.mean() * weights) * 252\n",
    "    vol = np.sqrt(np.dot(weights.T,np.dot(fin_ret.cov()*252,weights)))\n",
    "    sr = ret/vol\n",
    "    corr = np.sum(np.sum(fin_ret.corr() * weights)) #Had [1:] bw parenth's #Removes benchmark... should do better\n",
    "    b = np.sum(np.sum(fin_ret.cov() * weights)[1])   #Selects only benchmark cov(if included for Beta calc)... this could be done better.\n",
    "    return np.array([ret,vol,sr,corr,b])\n",
    "\n",
    "\n",
    "weights = np.array(np.random.random(12))  #CHG to number securities\n",
    "weights = weights/np.sum(weights)\n",
    "\n",
    "init_guess = np.array(np.random.random(12))  #CHG to number securities\n",
    "init_guess = weights/np.sum(weights)\n",
    "\n",
    "\n",
    "def neg_sharpe(weights):\n",
    "    return get_ret_vol_sr(weights)[2]*-1\n",
    "\n",
    "def check_sum(weights):\n",
    "    return np.sum(weights)-1\n",
    "\n",
    "def get_c(weights):\n",
    "    t_corr = fin_ret.corr() #[1:] #Removes benchmark--if included\n",
    "    t_corr2 = (t_corr.sum()-1)/t_corr.count()\n",
    "    corr = np.sum(t_corr2 * weights)\n",
    "    return corr#*-1\n",
    "    #return get_ret_vol_sr(weights)[3]*-1    #This doesnt make sense, but it works.\n",
    "\n",
    "def opt_beta(weights):\n",
    "    return get_ret_vol_sr(weights)[4]*-1    #Again, this doesnt make sense, but it works.\n",
    "\n",
    "cons = ({'type':'eq','fun':check_sum})\n",
    "\n",
    "\n",
    "bounds = ((0,1),(0,1),(0,1),(0,1),(0,1),(0,1),(0,1),(0,1),(0,1),(0,1),(0,1),(0,1))\n",
    "\n",
    "opt_res = minimize(get_c,weights,method='SLSQP',bounds=bounds,constraints=cons)"
   ]
  },
  {
   "cell_type": "code",
   "execution_count": 103,
   "metadata": {},
   "outputs": [
    {
     "data": {
      "text/plain": [
       "(array([1.00000000e+00, 0.00000000e+00, 1.11022302e-16, 4.64580631e-16,\n",
       "        6.93889390e-17, 0.00000000e+00, 4.51028104e-17, 0.00000000e+00,\n",
       "        0.00000000e+00, 4.16333634e-17, 1.83186799e-15, 0.00000000e+00]),\n",
       " Index(['ADBE', 'APC', 'CMG', 'COST', 'GOOGL', 'GS', 'KMI', 'NFLX', 'PYPL',\n",
       "        'SLB', 'TEVA', 'UAL'],\n",
       "       dtype='object'))"
      ]
     },
     "execution_count": 103,
     "metadata": {},
     "output_type": "execute_result"
    }
   ],
   "source": [
    "fin_wts = opt_res.x\n",
    "fin_wts,fin_ret.columns"
   ]
  },
  {
   "cell_type": "code",
   "execution_count": 264,
   "metadata": {},
   "outputs": [
    {
     "data": {
      "text/plain": [
       "array([1.00000000e+00, 0.00000000e+00, 0.00000000e+00, 0.00000000e+00,\n",
       "       0.00000000e+00, 2.77555756e-17, 3.81639165e-17, 1.14491749e-16,\n",
       "       0.00000000e+00, 2.77555756e-17, 0.00000000e+00, 1.68159757e-16])"
      ]
     },
     "execution_count": 264,
     "metadata": {},
     "output_type": "execute_result"
    }
   ],
   "source": [
    "opt_res.x"
   ]
  },
  {
   "cell_type": "code",
   "execution_count": 265,
   "metadata": {},
   "outputs": [
    {
     "data": {
      "text/plain": [
       "array([6.9388939e-18, 0.0000000e+00, 0.0000000e+00, 1.0000000e+00])"
      ]
     },
     "execution_count": 265,
     "metadata": {},
     "output_type": "execute_result"
    }
   ],
   "source": [
    "#THIS BREAKS THE LAST MIN FUNCTION --- RE RUN THE PANDA FUNCTION ABOVE THE PRIOR MIN\n",
    "fin_ret = fin_ret[['ADBE','APC','KMI','TEVA']]\n",
    "\n",
    "wts = np.array(np.random.random(4))\n",
    "wts = wts/np.sum(wts)\n",
    "\n",
    "bounds = ((0,1),(0,1),(0,1),(0,1))\n",
    "\n",
    "fin = minimize(get_c,wts,method='SLSQP',bounds=bnds,constraints=cons)\n",
    "f = fin.x\n",
    "f"
   ]
  },
  {
   "cell_type": "code",
   "execution_count": 285,
   "metadata": {},
   "outputs": [
    {
     "name": "stdout",
     "output_type": "stream",
     "text": [
      "BA      -0.089596\n",
      "APC     -0.072699\n",
      "COST    -0.064801\n",
      "S       -0.051461\n",
      "KMI     -0.049946\n",
      "UAL     -0.045191\n",
      "TEVA    -0.036906\n",
      "GOOGL   -0.036856\n",
      "CVS     -0.034662\n",
      "PYPL    -0.026855\n",
      "BABA    -0.024977\n",
      "CAT     -0.022541\n",
      "TSLA    -0.020793\n",
      "GS      -0.018348\n",
      "CMG     -0.016478\n",
      "UNH     -0.013068\n",
      "ADBE    -0.001329\n",
      "NVDA     0.007544\n",
      "CRM      0.018718\n",
      "SLB      0.025028\n",
      "NFLX     0.025336\n",
      "LULU     0.026979\n",
      "INTC     0.027074\n",
      "BAC      0.028818\n",
      "AAPL     0.036171\n",
      "AMZN     0.072039\n",
      "dtype: float64\n",
      "My correlations were simply off !\n"
     ]
    },
    {
     "data": {
      "text/plain": [
       "-0.26454052598223193"
      ]
     },
     "execution_count": 285,
     "metadata": {},
     "output_type": "execute_result"
    }
   ],
   "source": [
    "def get_nSmallest_corr(df,n):\n",
    "    df = df.corr()   #input cor matrix, or pct chg\n",
    "    #Unhide ^ if simply returns in corr, otherwise -- keep !\n",
    "    sum_corr = (df.sum()-1)/df.count()\n",
    "    return sum_corr.sort_values()[:n]\n",
    " \n",
    "\n",
    "def get_nSmallest_beta(cov_mat,n):\n",
    "    #cov_mat = cov_mat.cov()\n",
    "    #input of Cov matrix,(get_beta()) OR ^ unhde, pct chg w/ BM in col 0\n",
    "    cov_s = cov_mat['SPY'][1:]\n",
    "    return cov_s.sort_values()[:5]\n",
    "\n",
    "\n",
    "\n",
    "\n",
    "#covar = a.cov(b)\n",
    "def get_beta(df,mkt,col_names=None):\n",
    "    '''Ensure Benchmark column is named SPY, or include col names in list, BM first!'''\n",
    "    rets = pd.concat([mkt,df],axis=1)\n",
    "    if col_names != None: rets.columns = col_names #Change this to the df name \n",
    "    cv_mat = rets.cov()\n",
    "    return cv_mat\n",
    "\n",
    "print(get_nSmallest_corr(log_ret,26))\n",
    "print('My correlations were simply off !')\n",
    "cors = get_nSmallest_corr(log_ret,26)\n",
    "pf_corr = cors[2]+cors[3]+cors[5]+cors[6]+cors[7]+cors[8]+cors[10]+cors[14]+cors[15]+cors[17]+cors[20]+cors[21]\n",
    "pf_corr"
   ]
  },
  {
   "cell_type": "code",
   "execution_count": 68,
   "metadata": {},
   "outputs": [
    {
     "name": "stdout",
     "output_type": "stream",
     "text": [
      "38\n"
     ]
    }
   ],
   "source": [
    "#b = log_ret.cov().sum()[0]\n",
    "#print(b)\n",
    "\n",
    "'''R2 '''\n",
    "import pandas_datareader as pdr\n",
    "\n",
    "print(ret['COST'].shape[0])\n",
    "#ret #38 rows \n",
    "cost = pdr.DataReader('cost',data_source='yahoo',start='2019-05-01',end='2019-06-23')\n",
    "cost.shape[0]\n",
    "\n",
    "#Costco security\n",
    "cpct = cost['Adj Close'].pct_change()\n",
    "\n",
    "#Should be omni\n",
    "co = ret['COST'].astype(float)\n",
    "#print(co,cpct)\n",
    "data = [cpct,co]\n",
    "#rs = pd.concat(data,axis=1)\n",
    "'''Merge not working! why'''\n",
    "#co['Sec'] = ret['COST']\n",
    "\n",
    "\n",
    "\n",
    "#df = pd.DataFrame({'sec':cpct,'omni':co})\n",
    "#df.head()\n",
    "cc = cpct.fillna(0).astype(float).reset_index().drop(columns='Date')\n",
    "co\n",
    "\n",
    "data2 = [cc,co]\n",
    "r2 = pd.concat(data2,axis=1)\n",
    "RSquared = abs(r2.corr().iloc[0,1])\n",
    "RSquared\n",
    "\n",
    "def calcRSquared(ticker):\n",
    "    if ticker not in ret.columns: return 'Not in Omni performance'\n",
    "    sec = pdr.DataReader('TSLA',data_source='yahoo',start='2019-04-30',end='2019-06-21')\n",
    "    om = ret[ticker]\n",
    "    sec = sec['Adj Close'].pct_change().reset_index().drop(columns='Date')\n",
    "    rdf = pd.concat([om,sec],axis=1)\n",
    "    r2 = round(rdf.corr().iloc[0,1],4)\n",
    "    return r2\n",
    "\n",
    "\n",
    "\n",
    "ts = calcRSquared('TSLA')\n",
    "gs = calcRSquared('GS')\n",
    "ret.columns\n",
    "gl = calcRSquared('GOOGL')\n",
    "pl = calcRSquared('PYPL')\n",
    "it = calcRSquared('INTC')\n",
    "lu = calcRSquared('LULU')"
   ]
  },
  {
   "cell_type": "code",
   "execution_count": 79,
   "metadata": {},
   "outputs": [
    {
     "name": "stdout",
     "output_type": "stream",
     "text": [
      "GS 0.0241, GOOGL -0.1455, PYPL -0.0986 INTC 0.0265, LULU 0.0198\n"
     ]
    },
    {
     "data": {
      "text/plain": [
       "0.2084"
      ]
     },
     "execution_count": 79,
     "metadata": {},
     "output_type": "execute_result"
    }
   ],
   "source": [
    "print('GS {}, GOOGL {}, PYPL {} INTC {}, LULU {}'.format(gs,gl,pl,it,lu))\n",
    "calcRSquared('ADBE') #FUCKING 20! JESUS"
   ]
  }
 ],
 "metadata": {
  "kernelspec": {
   "display_name": "Python 3",
   "language": "python",
   "name": "python3"
  },
  "language_info": {
   "codemirror_mode": {
    "name": "ipython",
    "version": 3
   },
   "file_extension": ".py",
   "mimetype": "text/x-python",
   "name": "python",
   "nbconvert_exporter": "python",
   "pygments_lexer": "ipython3",
   "version": "3.6.5"
  }
 },
 "nbformat": 4,
 "nbformat_minor": 2
}
